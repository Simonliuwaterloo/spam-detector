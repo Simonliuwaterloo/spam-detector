{
 "cells": [
  {
   "cell_type": "code",
   "execution_count": 1,
   "metadata": {},
   "outputs": [],
   "source": [
    "import os\n",
    "import io\n",
    "import re\n",
    "import numpy as np\n",
    "\n",
    "def import_data():\n",
    "    ham_list = []\n",
    "    spam_list = []\n",
    "\n",
    "    for filename in os.listdir(\"./data/email/ham/\"):\n",
    "        f = open(\"./data/email/ham/\" + filename, mode=\"r\", encoding=\"latin-1\")\n",
    "        ham_list.append(f.read())\n",
    "\n",
    "    for filename in os.listdir(\"./data/email/spam/\"):\n",
    "        f = open(\"./data/email/spam/\" + filename, mode=\"r\", encoding=\"latin-1\")\n",
    "        spam_list.append(f.read())\n",
    "    return ham_list, spam_list  \n",
    "\n",
    "def textParse(bigString):\n",
    "    listOfTokens = re.split('\\W+', bigString)\n",
    "    regex = re.compile('[0-9]+')  # filter out words with numbers\n",
    "    return [tok.lower() for tok in listOfTokens if (len(tok) > 2 and not regex.search(tok))]   \n",
    "\n",
    "def createDataSet(ham_list, spam_list):\n",
    "    train_ham_list = ham_list[:len(ham_list)*8//10]\n",
    "    test_ham_list = ham_list[len(ham_list)*8//10:]\n",
    "    train_spam_list = spam_list[:len(spam_list)*8//10]\n",
    "    test_spam_list = spam_list[len(spam_list)*8//10:]\n",
    "    listOfPost = []\n",
    "    listOfClass = []\n",
    "    listOfTestPost = []\n",
    "    listOfTestClass = []\n",
    "    for post in train_ham_list:\n",
    "        listOfPost.append(post)\n",
    "        listOfClass.append(0) # 0 is ham, 1 is spam\n",
    "    for post in train_spam_list:\n",
    "        listOfPost.append(post)\n",
    "        listOfClass.append(1)\n",
    "    for post in test_ham_list:\n",
    "        listOfTestPost.append(post)\n",
    "        listOfTestClass.append(0) \n",
    "    for post in test_spam_list:\n",
    "        listOfTestPost.append(post)\n",
    "        listOfTestClass.append(1)\n",
    "    # todo: shuffle list\n",
    "    return listOfPost, listOfClass, listOfTestPost, listOfTestClass"
   ]
  },
  {
   "cell_type": "code",
   "execution_count": 2,
   "metadata": {},
   "outputs": [],
   "source": [
    "ham_list, spam_list = import_data()\n",
    "listOfPost, listOfClass,listOfTestPost, testClass = createDataSet(ham_list, spam_list)"
   ]
  },
  {
   "cell_type": "code",
   "execution_count": 3,
   "metadata": {},
   "outputs": [],
   "source": [
    "# vectorize documents\n",
    "from sklearn.feature_extraction.text import TfidfVectorizer\n",
    "from sklearn.naive_bayes import MultinomialNB\n",
    "from sklearn.pipeline import make_pipeline\n",
    "\n",
    "model = make_pipeline(TfidfVectorizer(), MultinomialNB())"
   ]
  },
  {
   "cell_type": "code",
   "execution_count": 4,
   "metadata": {},
   "outputs": [],
   "source": [
    "model.fit(listOfPost, listOfClass)\n",
    "labels = model.predict(listOfTestPost)"
   ]
  },
  {
   "cell_type": "code",
   "execution_count": 16,
   "metadata": {},
   "outputs": [
    {
     "data": {
      "text/plain": [
       "Text(89.18, 0.5, 'predicted label')"
      ]
     },
     "execution_count": 16,
     "metadata": {},
     "output_type": "execute_result"
    },
    {
     "data": {
      "image/png": "[encoded data removed]",
      "text/plain": [
       "<Figure size 432x288 with 1 Axes>"
      ]
     },
     "metadata": {},
     "output_type": "display_data"
    }
   ],
   "source": [
    "%matplotlib inline\n",
    "import numpy as np\n",
    "import matplotlib.pyplot as plt\n",
    "import seaborn as sns; sns.set()\n",
    "from sklearn.metrics import confusion_matrix\n",
    "mat = confusion_matrix(testClass, labels)\n",
    "sns.heatmap(mat.T, square=True, annot=True, fmt='d', cbar=False)\n",
    "plt.xlabel('true label')\n",
    "plt.ylabel('predicted label')"
   ]
  },
  {
   "cell_type": "code",
   "execution_count": 6,
   "metadata": {},
   "outputs": [
    {
     "data": {
      "text/plain": [
       "array([[511,   0],\n",
       "       [ 64,  37]])"
      ]
     },
     "execution_count": 6,
     "metadata": {},
     "output_type": "execute_result"
    }
   ],
   "source": [
    "mat"
   ]
  }
 ],
 "metadata": {
  "kernelspec": {
   "display_name": "Python 3",
   "language": "python",
   "name": "python3"
  },
  "language_info": {
   "codemirror_mode": {
    "name": "ipython",
    "version": 3
   },
   "file_extension": ".py",
   "mimetype": "text/x-python",
   "name": "python",
   "nbconvert_exporter": "python",
   "pygments_lexer": "ipython3",
   "version": "3.7.3"
  }
 },
 "nbformat": 4,
 "nbformat_minor": 2
}
