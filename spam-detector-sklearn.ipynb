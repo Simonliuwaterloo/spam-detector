{
 "cells": [
  {
   "cell_type": "code",
   "execution_count": 1,
   "metadata": {},
   "outputs": [],
   "source": [
    "import os\n",
    "import io\n",
    "import re\n",
    "from sklearn.model_selection import train_test_split\n",
    "import numpy as np\n",
    "\n",
    "def import_data():\n",
    "    ham_list = []\n",
    "    spam_list = []\n",
    "\n",
    "    for filename in os.listdir(\"./data/email/ham/\"):\n",
    "        f = open(\"./data/email/ham/\" + filename, mode=\"r\", encoding=\"latin-1\")\n",
    "        ham_list.append(f.read())\n",
    "\n",
    "    for filename in os.listdir(\"./data/email/spam/\"):\n",
    "        f = open(\"./data/email/spam/\" + filename, mode=\"r\", encoding=\"latin-1\")\n",
    "        spam_list.append(f.read())\n",
    "    return ham_list, spam_list  \n",
    "\n",
    "def textParse(bigString):\n",
    "    listOfTokens = re.split('\\W+', bigString)\n",
    "    regex = re.compile('[0-9]+')  # filter out words with numbers\n",
    "    return [tok.lower() for tok in listOfTokens if (len(tok) > 2 and not regex.search(tok))]   \n",
    "\n",
    "def createDataSet(ham_list, spam_list):\n",
    "    totalPosts = ham_list + spam_list\n",
    "    classList = [0] * len(ham_list) + [1] * len(spam_list)\n",
    "#     for index, post in enumerate(totalPosts):\n",
    "#         totalPosts[index] = textParse(post)\n",
    "    Xtrain, Xtest, ytrain, ytest = train_test_split(totalPosts, classList,\n",
    "                                                   random_state=0)\n",
    "    return Xtrain, Xtest, ytrain, ytest"
   ]
  },
  {
   "cell_type": "code",
   "execution_count": 2,
   "metadata": {},
   "outputs": [],
   "source": [
    "ham_list, spam_list = import_data()\n",
    "Xtrain, Xtest, ytrain, ytest = createDataSet(ham_list, spam_list)"
   ]
  },
  {
   "cell_type": "code",
   "execution_count": 3,
   "metadata": {},
   "outputs": [],
   "source": [
    "# vectorize documents\n",
    "from sklearn.feature_extraction.text import TfidfVectorizer\n",
    "from sklearn.naive_bayes import MultinomialNB\n",
    "from sklearn.pipeline import make_pipeline\n",
    "\n",
    "model = make_pipeline(TfidfVectorizer(), MultinomialNB())"
   ]
  },
  {
   "cell_type": "code",
   "execution_count": 4,
   "metadata": {},
   "outputs": [],
   "source": [
    "model.fit(Xtrain, ytrain)\n",
    "labels = model.predict(Xtest)"
   ]
  },
  {
   "cell_type": "code",
   "execution_count": 5,
   "metadata": {},
   "outputs": [
    {
     "data": {
      "text/plain": [
       "Text(89.18, 0.5, 'predicted label')"
      ]
     },
     "execution_count": 5,
     "metadata": {},
     "output_type": "execute_result"
    },
    {
     "data": {
      "image/png": "[encoded data removed]",
      "text/plain": [
       "<Figure size 432x288 with 1 Axes>"
      ]
     },
     "metadata": {},
     "output_type": "display_data"
    }
   ],
   "source": [
    "%matplotlib inline\n",
    "import numpy as np\n",
    "import matplotlib.pyplot as plt\n",
    "import seaborn as sns; sns.set()\n",
    "from sklearn.metrics import confusion_matrix\n",
    "mat = confusion_matrix(ytest, labels)\n",
    "sns.heatmap(mat.T, square=True, annot=True, fmt='d', cbar=False)\n",
    "plt.xlabel('true label')\n",
    "plt.ylabel('predicted label')"
   ]
  },
  {
   "cell_type": "code",
   "execution_count": 6,
   "metadata": {},
   "outputs": [
    {
     "data": {
      "text/plain": [
       "0.9017038007863696"
      ]
     },
     "execution_count": 6,
     "metadata": {},
     "output_type": "execute_result"
    }
   ],
   "source": [
    "(mat[0,0] + mat[1,1])/len(Xtest)"
   ]
  }
 ],
 "metadata": {
  "kernelspec": {
   "display_name": "Python 3",
   "language": "python",
   "name": "python3"
  },
  "language_info": {
   "codemirror_mode": {
    "name": "ipython",
    "version": 3
   },
   "file_extension": ".py",
   "mimetype": "text/x-python",
   "name": "python",
   "nbconvert_exporter": "python",
   "pygments_lexer": "ipython3",
   "version": "3.7.3"
  }
 },
 "nbformat": 4,
 "nbformat_minor": 2
}
